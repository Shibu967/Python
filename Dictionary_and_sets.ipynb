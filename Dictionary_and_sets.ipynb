{
 "cells": [
  {
   "cell_type": "markdown",
   "id": "18111e2e",
   "metadata": {},
   "source": [
    "# Dictionary:-\n",
    "# Dictionary is a collection of key-value pairs.\n",
    "\n"
   ]
  },
  {
   "cell_type": "markdown",
   "id": "c59520e7",
   "metadata": {},
   "source": [
    "# Syntax:-"
   ]
  },
  {
   "cell_type": "code",
   "execution_count": 4,
   "id": "65e66246",
   "metadata": {},
   "outputs": [
    {
     "name": "stdout",
     "output_type": "stream",
     "text": [
      "in a quck manner\n"
     ]
    }
   ],
   "source": [
    "mydict={\n",
    "    \"Fast\": \"in a quck manner\",\n",
    "    \"Harry\": \"coder\"\n",
    "}\n",
    "print(mydict['Fast'])"
   ]
  },
  {
   "cell_type": "code",
   "execution_count": 13,
   "id": "7a7028eb",
   "metadata": {},
   "outputs": [
    {
     "name": "stdout",
     "output_type": "stream",
     "text": [
      "in a quck manner\n",
      "coder\n",
      "[34, 56, 77]\n"
     ]
    }
   ],
   "source": [
    "mydict={\n",
    "    \"Fast\": \"in a quck manner\",\n",
    "    \"Harry\": \"coder\",\n",
    "    \"Marks\": [34,56,77]\n",
    "}\n",
    "print(mydict['Fast'])\n",
    "print(mydict['Harry'])\n",
    "print(mydict['Marks'])\n",
    "\n"
   ]
  },
  {
   "cell_type": "markdown",
   "id": "12f634f0",
   "metadata": {},
   "source": [
    "# Dictionary_Methods:-"
   ]
  },
  {
   "cell_type": "code",
   "execution_count": 19,
   "id": "13bd497a",
   "metadata": {},
   "outputs": [
    {
     "name": "stdout",
     "output_type": "stream",
     "text": [
      "dict_keys(['Fast', 'Harry', 'Marks'])\n"
     ]
    }
   ],
   "source": [
    "mydict={\n",
    "    \"Fast\": \"in a quck manner\",\n",
    "    \"Harry\": \"coder\",\n",
    "    \"Marks\": [34,56,77]\n",
    "}\n",
    "print(type(mydict.keys())"
   ]
  },
  {
   "cell_type": "code",
   "execution_count": 3,
   "id": "775cbce4",
   "metadata": {},
   "outputs": [
    {
     "name": "stdout",
     "output_type": "stream",
     "text": [
      "dict_items([('Fast', 'in a quck manner'), ('Harry', 'coder'), ('Marks', [34, 56, 77])])\n"
     ]
    }
   ],
   "source": [
    "mydict={\n",
    "    \"Fast\": \"in a quck manner\",\n",
    "    \"Harry\": \"coder\",\n",
    "    \"Marks\": [34,56,77]\n",
    "}\n",
    "print(mydict.items())"
   ]
  },
  {
   "cell_type": "code",
   "execution_count": 7,
   "id": "af11dc14",
   "metadata": {},
   "outputs": [
    {
     "name": "stdout",
     "output_type": "stream",
     "text": [
      "{'shibu': 'simran', 'sonam': 'babu', '45': '2555555'}\n",
      "dict_values(['simran', 'babu', '2555555'])\n"
     ]
    }
   ],
   "source": [
    "dict={\"shibu\":\"simran\",\"sonam\":\"babu\",\"45\":\"2555555\"}\n",
    "print(dict)\n",
    "print(dict.values())"
   ]
  },
  {
   "cell_type": "code",
   "execution_count": 9,
   "id": "c945f8e4",
   "metadata": {},
   "outputs": [
    {
     "name": "stdout",
     "output_type": "stream",
     "text": [
      "{'shibu': 'simran', 'sonam': 'babu', '45': '2555555'}\n",
      "{'shibu': 'singer', 'sonam': 'babu', '45': '2555555', 'abhay': 'tapsya'}\n"
     ]
    }
   ],
   "source": [
    "dict={\"shibu\":\"simran\",\"sonam\":\"babu\",\"45\":\"2555555\"}\n",
    "print(dict)\n",
    "updatedict={\"abhay\":\"tapsya\",\"shibu\":\"singer\"}\n",
    "dict.update(updatedict)\n",
    "print(dict)"
   ]
  },
  {
   "cell_type": "code",
   "execution_count": 15,
   "id": "addb8dcd",
   "metadata": {},
   "outputs": [
    {
     "name": "stdout",
     "output_type": "stream",
     "text": [
      "singer\n",
      "singer\n"
     ]
    }
   ],
   "source": [
    "dict={\"shibu\":\"singer\",\"sonam\":\"babu\",\"45\":\"2555555\"}\n",
    "print(dict[\"shibu\"])\n",
    "print(dict.get(\"shibu\"))"
   ]
  },
  {
   "cell_type": "markdown",
   "id": "4aa3372f",
   "metadata": {},
   "source": [
    "# sets:-\n",
    "# set is a collection of none repetitive elements."
   ]
  },
  {
   "cell_type": "code",
   "execution_count": 18,
   "id": "c74093f8",
   "metadata": {},
   "outputs": [
    {
     "name": "stdout",
     "output_type": "stream",
     "text": [
      "{2, 3, 4, 5}\n",
      "<class 'set'>\n"
     ]
    }
   ],
   "source": [
    "a={2,3,4,5,5,4}\n",
    "print(a)\n",
    "print(type(a))"
   ]
  },
  {
   "cell_type": "code",
   "execution_count": 26,
   "id": "2664b7ce",
   "metadata": {},
   "outputs": [
    {
     "name": "stdout",
     "output_type": "stream",
     "text": [
      "set()\n",
      "{3, 4}\n",
      "{3, 4}\n",
      "{(3, 5, 6), 3, 4}\n"
     ]
    }
   ],
   "source": [
    "a=set()\n",
    "print(a)\n",
    "a.add(3)\n",
    "a.add(4)\n",
    "print(a)\n",
    "a.add(3)\n",
    "print(a)\n",
    "a.add((3,5,6))\n",
    "print(a)"
   ]
  },
  {
   "cell_type": "code",
   "execution_count": 30,
   "id": "ecd0437f",
   "metadata": {},
   "outputs": [
    {
     "name": "stdout",
     "output_type": "stream",
     "text": [
      "{2, 3, 5, 6}\n",
      "4\n",
      "{2, 3, 6}\n"
     ]
    }
   ],
   "source": [
    "b={2,3,5,6}\n",
    "print(b)\n",
    "print(len(b))\n",
    "b.remove(5)\n",
    "print(b)"
   ]
  },
  {
   "cell_type": "code",
   "execution_count": 31,
   "id": "39ae6ca0",
   "metadata": {},
   "outputs": [
    {
     "name": "stdout",
     "output_type": "stream",
     "text": [
      "{2, 3, 5, 6}\n",
      "2\n"
     ]
    }
   ],
   "source": [
    "b={2,3,5,6}\n",
    "print(b)\n",
    "print(b.pop())"
   ]
  },
  {
   "cell_type": "code",
   "execution_count": 32,
   "id": "3dc0119c",
   "metadata": {},
   "outputs": [
    {
     "name": "stdout",
     "output_type": "stream",
     "text": [
      "{2, 3, 5, 6}\n",
      "None\n"
     ]
    }
   ],
   "source": [
    "b={2,3,5,6}\n",
    "print(b)\n",
    "print(b.clear())"
   ]
  },
  {
   "cell_type": "code",
   "execution_count": 35,
   "id": "e0b6ae8a",
   "metadata": {},
   "outputs": [
    {
     "name": "stdout",
     "output_type": "stream",
     "text": [
      "options are dict_keys(['kitab', 'pankha', 'kalam', 'ghadi'])\n",
      "enter the hindi word\n",
      "kalam\n",
      "the meaning of your word is: pen\n"
     ]
    }
   ],
   "source": [
    "# write a program to create a dictionary of hindi words with values as their english translation. provide user with\n",
    "# an option to look it up !\n",
    "dict={\n",
    "    \"kitab\":\"book\",\n",
    "    \"pankha\":\"fan\",\n",
    "    \"kalam\":\"pen\",\n",
    "    \"ghadi\":\"watch\"\n",
    "    \n",
    "}\n",
    "print(\"options are\",dict.keys())\n",
    "a=input(\"enter the hindi word\\n\")\n",
    "print(\"the meaning of your word is:\",dict[a])"
   ]
  },
  {
   "cell_type": "code",
   "execution_count": 5,
   "id": "9125e7c9",
   "metadata": {},
   "outputs": [
    {
     "name": "stdout",
     "output_type": "stream",
     "text": [
      "enter the number 1\n",
      "3\n",
      "enter the number 2\n",
      "4\n",
      "enter the number 3\n",
      "5\n",
      "enter the number 4\n",
      "6\n",
      "enter the number 5\n",
      "7\n",
      "enter the number 6\n",
      "8\n",
      "enter the number 7\n",
      "9\n",
      "enter the number 8\n",
      "78\n",
      "[3, 4, 5, 6, 7, 8, 9, 78]\n"
     ]
    }
   ],
   "source": [
    "#write a program to input eight numbers from the user and display all the unique numbers(once)\n",
    "num1=int(input(\"enter the number 1\\n\"))\n",
    "num2=int(input(\"enter the number 2\\n\"))\n",
    "num3=int(input(\"enter the number 3\\n\"))\n",
    "num4=int(input(\"enter the number 4\\n\"))\n",
    "num5=int(input(\"enter the number 5\\n\"))\n",
    "num6=int(input(\"enter the number 6\\n\"))\n",
    "num7=int(input(\"enter the number 7\\n\"))\n",
    "num8=int(input(\"enter the number 8\\n\"))\n",
    "list=[num1,num2,num3,num4,num5,num6,num7,num8]\n",
    "print(list)"
   ]
  },
  {
   "cell_type": "code",
   "execution_count": 1,
   "id": "56d6cd71",
   "metadata": {},
   "outputs": [
    {
     "name": "stdout",
     "output_type": "stream",
     "text": [
      "{18, 18.1, '18'}\n"
     ]
    }
   ],
   "source": [
    "s={18,\"18\",18.1}\n",
    "print(s)"
   ]
  },
  {
   "cell_type": "code",
   "execution_count": 2,
   "id": "9d5b6c50",
   "metadata": {},
   "outputs": [
    {
     "name": "stdout",
     "output_type": "stream",
     "text": [
      "3\n"
     ]
    }
   ],
   "source": [
    "set={23,23.1,\"23\"}\n",
    "print(len(set))"
   ]
  },
  {
   "cell_type": "code",
   "execution_count": 4,
   "id": "b9eec2d1",
   "metadata": {},
   "outputs": [
    {
     "name": "stdout",
     "output_type": "stream",
     "text": [
      "2\n"
     ]
    }
   ],
   "source": [
    "s={23,23.0,\"23\"}\n",
    "print(len(s))"
   ]
  },
  {
   "cell_type": "code",
   "execution_count": null,
   "id": "fbe49490",
   "metadata": {},
   "outputs": [],
   "source": []
  }
 ],
 "metadata": {
  "kernelspec": {
   "display_name": "Python 3",
   "language": "python",
   "name": "python3"
  },
  "language_info": {
   "codemirror_mode": {
    "name": "ipython",
    "version": 3
   },
   "file_extension": ".py",
   "mimetype": "text/x-python",
   "name": "python",
   "nbconvert_exporter": "python",
   "pygments_lexer": "ipython3",
   "version": "3.8.8"
  }
 },
 "nbformat": 4,
 "nbformat_minor": 5
}
