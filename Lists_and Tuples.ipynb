{
 "cells": [
  {
   "cell_type": "markdown",
   "id": "e6e247ab",
   "metadata": {},
   "source": [
    "# Lists:-\n",
    "# python Lists are containers to store a set of values of any data type."
   ]
  },
  {
   "cell_type": "code",
   "execution_count": 1,
   "id": "03946ccb",
   "metadata": {},
   "outputs": [
    {
     "name": "stdout",
     "output_type": "stream",
     "text": [
      "[1, 2, 3, 56, 78]\n",
      "78\n",
      "[23, 2, 3, 56, 78]\n",
      "[34, 'shibu', True, 3, 9]\n"
     ]
    }
   ],
   "source": [
    "\n",
    "#create a lists using []\n",
    "a=[1,2,3,56,78]\n",
    "# print the list using print function.\n",
    "print(a)\n",
    "# Access using index using a[0],a[1],a[3]\n",
    "print(a[4])\n",
    "# change the value of lists using\n",
    "a[0]=23\n",
    "print(a)\n",
    "#we can create a list with item of defferent types\n",
    "c=[34,\"shibu\",True,3,9]\n",
    "print(c)"
   ]
  },
  {
   "cell_type": "markdown",
   "id": "12497de6",
   "metadata": {},
   "source": [
    "# List slicing"
   ]
  },
  {
   "cell_type": "code",
   "execution_count": 2,
   "id": "8b1fac83",
   "metadata": {},
   "outputs": [
    {
     "name": "stdout",
     "output_type": "stream",
     "text": [
      "['shibu', 'Akash']\n",
      "['Rohan', '67']\n"
     ]
    }
   ],
   "source": [
    "Frinds=[\"shibu\",\"Akash\",\"Rohan\",\"67\"]\n",
    "print(Frinds[0:2])\n",
    "print(Frinds[-2:])"
   ]
  },
  {
   "cell_type": "markdown",
   "id": "f7089aa8",
   "metadata": {},
   "source": [
    "# Lists Methods\n",
    "\n"
   ]
  },
  {
   "cell_type": "code",
   "execution_count": 3,
   "id": "4c0d6e21",
   "metadata": {},
   "outputs": [
    {
     "name": "stdout",
     "output_type": "stream",
     "text": [
      "[2, 3, 4, 5, 6, 56, 8, 22, 67]\n",
      "[2, 3, 4, 5, 6, 8, 22, 56, 67]\n"
     ]
    }
   ],
   "source": [
    "l1=[2,3,4,5,6,56,8,22,67]\n",
    "print(l1)\n",
    "l1.sort()\n",
    "print(l1)\n",
    "# sort the list"
   ]
  },
  {
   "cell_type": "code",
   "execution_count": 4,
   "id": "7083d5df",
   "metadata": {},
   "outputs": [
    {
     "name": "stdout",
     "output_type": "stream",
     "text": [
      "[8, 7, 6, 5, 4, 3, 2, 1]\n"
     ]
    }
   ],
   "source": [
    "l2=[1,2,3,4,5,6,7,8]\n",
    "l2.reverse()\n",
    "print(l2)\n",
    "# reverse the list"
   ]
  },
  {
   "cell_type": "code",
   "execution_count": 5,
   "id": "c5a0e68c",
   "metadata": {},
   "outputs": [
    {
     "name": "stdout",
     "output_type": "stream",
     "text": [
      "[34, 35, 36, 37, 38, 45]\n"
     ]
    }
   ],
   "source": [
    "l3=[34,35,36,37]\n",
    "l3.append(38)\n",
    "l3.append(45)\n",
    "print(l3)\n",
    "# adds at the end of the list"
   ]
  },
  {
   "cell_type": "code",
   "execution_count": 6,
   "id": "c8891472",
   "metadata": {},
   "outputs": [
    {
     "name": "stdout",
     "output_type": "stream",
     "text": [
      "[2, 3, 7, 8, 9]\n",
      "[790, 2, 3, 7, 8, 890, 9]\n"
     ]
    }
   ],
   "source": [
    "l4=[2,3,7,8,9]\n",
    "print(l4)\n",
    "l4.insert(4,890)#insert 890 at 4 index\n",
    "l4.insert(0,790)#insert 790 at 0 index\n",
    "print(l4)"
   ]
  },
  {
   "cell_type": "code",
   "execution_count": 7,
   "id": "75fd212f",
   "metadata": {},
   "outputs": [
    {
     "data": {
      "text/plain": [
       "7"
      ]
     },
     "execution_count": 7,
     "metadata": {},
     "output_type": "execute_result"
    }
   ],
   "source": [
    "l5=[2,3,4,56,6,7]\n",
    "l5.pop(5)# removes element at index 5"
   ]
  },
  {
   "cell_type": "code",
   "execution_count": 8,
   "id": "98768018",
   "metadata": {},
   "outputs": [
    {
     "name": "stdout",
     "output_type": "stream",
     "text": [
      "[67, 90, 900, 890]\n"
     ]
    }
   ],
   "source": [
    "l6=[67,90,80,900,890]\n",
    "l6.remove(80)\n",
    "print(l6)#removes 80 from the list"
   ]
  },
  {
   "cell_type": "markdown",
   "id": "b430c961",
   "metadata": {},
   "source": [
    "# Tuples:-\n",
    "# A Tuple is an immutable data type in python.\n",
    "# immutable means cannot change"
   ]
  },
  {
   "cell_type": "code",
   "execution_count": 9,
   "id": "485e34e9",
   "metadata": {},
   "outputs": [
    {
     "name": "stdout",
     "output_type": "stream",
     "text": [
      "()\n"
     ]
    }
   ],
   "source": [
    "# create a tuple using ()\n",
    "t1=()# this is Empty tuple\n",
    "print(t1)"
   ]
  },
  {
   "cell_type": "code",
   "execution_count": 10,
   "id": "453d2446",
   "metadata": {},
   "outputs": [
    {
     "name": "stdout",
     "output_type": "stream",
     "text": [
      "(1,)\n"
     ]
    }
   ],
   "source": [
    "t2=(1,)\n",
    "print(t2)\n",
    "# Tuple with single element"
   ]
  },
  {
   "cell_type": "code",
   "execution_count": 11,
   "id": "8e5ea37e",
   "metadata": {},
   "outputs": [
    {
     "name": "stdout",
     "output_type": "stream",
     "text": [
      "(4, 5, 6, 8, 8)\n"
     ]
    }
   ],
   "source": [
    "t3=(4,5,6,8,8)\n",
    "print(t3)\n",
    "# Tuple with more than one element"
   ]
  },
  {
   "cell_type": "markdown",
   "id": "c933c034",
   "metadata": {},
   "source": [
    "# Tuples methods"
   ]
  },
  {
   "cell_type": "code",
   "execution_count": 12,
   "id": "6b681a44",
   "metadata": {},
   "outputs": [
    {
     "name": "stdout",
     "output_type": "stream",
     "text": [
      "3\n",
      "1\n"
     ]
    }
   ],
   "source": [
    "t=(3,4,2,6,7,7,7,9,0,8,4,3)\n",
    "print(t.count(7))\n",
    "print(t.count(8))"
   ]
  },
  {
   "cell_type": "code",
   "execution_count": 13,
   "id": "c8a4b41b",
   "metadata": {},
   "outputs": [
    {
     "name": "stdout",
     "output_type": "stream",
     "text": [
      "4\n",
      "8\n"
     ]
    }
   ],
   "source": [
    "t=(3,4,2,6,7,7,7,9,0,8,4,3)\n",
    "print(t.index(7))\n",
    "print(t.index(0))"
   ]
  },
  {
   "cell_type": "code",
   "execution_count": 14,
   "id": "3043a03d",
   "metadata": {},
   "outputs": [
    {
     "name": "stdout",
     "output_type": "stream",
     "text": [
      "Enter the fruit number 1\n",
      "mango\n",
      "Enter the fruit number 2\n",
      "apple\n",
      "Enter the fruit number 3\n",
      "banana\n",
      "Enter the fruit number 4\n",
      "orange\n",
      "Enter the fruit number 5\n",
      "gava\n",
      "Enter the fruit number 6\n",
      "civi\n",
      "Enter the fruit number 7\n",
      "pineapple\n",
      "['mango', 'apple', 'banana', 'orange', 'gava', 'civi', 'pineapple']\n"
     ]
    }
   ],
   "source": [
    "#1 write a program to store seven fruits in a list entered bf1=input(\"Entery the user\n",
    "f1=input(\"Enter the fruit number 1\\n\")\n",
    "f2=input(\"Enter the fruit number 2\\n\")\n",
    "f3=input(\"Enter the fruit number 3\\n\")\n",
    "f4=input(\"Enter the fruit number 4\\n\")\n",
    "f5=input(\"Enter the fruit number 5\\n\")\n",
    "f6=input(\"Enter the fruit number 6\\n\")\n",
    "f7=input(\"Enter the fruit number 7\\n\")\n",
    "myfruitList=[f1,f2,f3,f4,f5,f6,f7]\n",
    "print(myfruitList)"
   ]
  },
  {
   "cell_type": "code",
   "execution_count": 22,
   "id": "5e6baec2",
   "metadata": {},
   "outputs": [
    {
     "name": "stdout",
     "output_type": "stream",
     "text": [
      "Enter marks for student number 1: 90\n",
      "Enter marks for student number 2: 56\n",
      "Enter marks for student number 3: 56\n",
      "Enter marks for student number 4: 67\n",
      "Enter marks for student number 5: 62\n",
      "Enter marks for student number 6: 55\n",
      "[55, 56, 56, 62, 67, 90]\n"
     ]
    }
   ],
   "source": [
    "#2 write a program to accept marks of 6 students and display then in a sorted manner\n",
    "m1=int(input(\"Enter marks for student number 1: \"))\n",
    "m2=int(input(\"Enter marks for student number 2: \"))\n",
    "m3=int(input(\"Enter marks for student number 3: \"))\n",
    "m4=int(input(\"Enter marks for student number 4: \"))\n",
    "m5=int(input(\"Enter marks for student number 5: \"))\n",
    "m6=int(input(\"Enter marks for student number 6: \"))\n",
    "myLists=[m1,m2,m3,m4,m5,m6]\n",
    "myLists.sort()\n",
    "print(myLists)"
   ]
  },
  {
   "cell_type": "code",
   "execution_count": 23,
   "id": "4bdbd824",
   "metadata": {},
   "outputs": [
    {
     "ename": "TypeError",
     "evalue": "'tuple' object does not support item assignment",
     "output_type": "error",
     "traceback": [
      "\u001b[1;31m---------------------------------------------------------------------------\u001b[0m",
      "\u001b[1;31mTypeError\u001b[0m                                 Traceback (most recent call last)",
      "\u001b[1;32m<ipython-input-23-a815d89d46e1>\u001b[0m in \u001b[0;36m<module>\u001b[1;34m\u001b[0m\n\u001b[0;32m      1\u001b[0m \u001b[1;31m#3 Check that a tuple cannot be changed in python.\u001b[0m\u001b[1;33m\u001b[0m\u001b[1;33m\u001b[0m\u001b[1;33m\u001b[0m\u001b[0m\n\u001b[0;32m      2\u001b[0m \u001b[0mt\u001b[0m\u001b[1;33m=\u001b[0m\u001b[1;33m(\u001b[0m\u001b[1;36m43\u001b[0m\u001b[1;33m,\u001b[0m\u001b[1;36m55\u001b[0m\u001b[1;33m,\u001b[0m\u001b[1;36m6\u001b[0m\u001b[1;33m,\u001b[0m\u001b[1;36m7\u001b[0m\u001b[1;33m)\u001b[0m\u001b[1;33m\u001b[0m\u001b[1;33m\u001b[0m\u001b[0m\n\u001b[1;32m----> 3\u001b[1;33m \u001b[0mt\u001b[0m\u001b[1;33m[\u001b[0m\u001b[1;36m0\u001b[0m\u001b[1;33m]\u001b[0m\u001b[1;33m=\u001b[0m\u001b[1;36m33\u001b[0m\u001b[1;33m\u001b[0m\u001b[1;33m\u001b[0m\u001b[0m\n\u001b[0m",
      "\u001b[1;31mTypeError\u001b[0m: 'tuple' object does not support item assignment"
     ]
    }
   ],
   "source": [
    "#3 Check that a tuple cannot be changed in python.\n",
    "t=(43,55,6,7)\n",
    "t[0]=33"
   ]
  },
  {
   "cell_type": "code",
   "execution_count": 25,
   "id": "54c796b3",
   "metadata": {},
   "outputs": [
    {
     "name": "stdout",
     "output_type": "stream",
     "text": [
      "200\n",
      "200\n"
     ]
    }
   ],
   "source": [
    "#4 write a program to sum a list with 4 numbers.\n",
    "a=[50,50,50,50]\n",
    "print(a[0]+a[1]+a[2]+a[3])\n",
    "print(sum(a))"
   ]
  },
  {
   "cell_type": "code",
   "execution_count": 27,
   "id": "b9f06414",
   "metadata": {},
   "outputs": [
    {
     "name": "stdout",
     "output_type": "stream",
     "text": [
      "3\n"
     ]
    }
   ],
   "source": [
    "#5 write a program to count the number of zero in the following tuple\n",
    "a=(7,0,8,0,0,9)\n",
    "print(a.count(0))"
   ]
  },
  {
   "cell_type": "markdown",
   "id": "d6b7b2c7",
   "metadata": {},
   "source": [
    "# diff.b\\w Lists and Tuple\n",
    "# List is mutable\n",
    "# Tuple is immutable"
   ]
  },
  {
   "cell_type": "code",
   "execution_count": 1,
   "id": "7ad6c60b",
   "metadata": {},
   "outputs": [
    {
     "name": "stdout",
     "output_type": "stream",
     "text": [
      "Enter marks for student number 1: 9\n",
      "Enter marks for student number 2: 78\n",
      "Enter marks for student number 3: 8\n",
      "Enter marks for student number 4: 8\n",
      "Enter marks for student number 5: 8\n",
      "Enter marks for student number 6: 8\n"
     ]
    },
    {
     "ename": "TypeError",
     "evalue": "unsupported operand type(s) for /: 'list' and 'int'",
     "output_type": "error",
     "traceback": [
      "\u001b[1;31m---------------------------------------------------------------------------\u001b[0m",
      "\u001b[1;31mTypeError\u001b[0m                                 Traceback (most recent call last)",
      "\u001b[1;32m<ipython-input-1-23bf2312fbeb>\u001b[0m in \u001b[0;36m<module>\u001b[1;34m\u001b[0m\n\u001b[0;32m      7\u001b[0m \u001b[0msum\u001b[0m\u001b[1;33m=\u001b[0m\u001b[1;33m[\u001b[0m\u001b[0mm1\u001b[0m\u001b[1;33m+\u001b[0m\u001b[0mm2\u001b[0m\u001b[1;33m+\u001b[0m\u001b[0mm3\u001b[0m\u001b[1;33m+\u001b[0m\u001b[0mm4\u001b[0m\u001b[1;33m+\u001b[0m\u001b[0mm5\u001b[0m\u001b[1;33m+\u001b[0m\u001b[0mm6\u001b[0m\u001b[1;33m]\u001b[0m\u001b[1;33m\u001b[0m\u001b[1;33m\u001b[0m\u001b[0m\n\u001b[0;32m      8\u001b[0m \u001b[1;31m#print(sum)\u001b[0m\u001b[1;33m\u001b[0m\u001b[1;33m\u001b[0m\u001b[1;33m\u001b[0m\u001b[0m\n\u001b[1;32m----> 9\u001b[1;33m \u001b[0maverage\u001b[0m\u001b[1;33m=\u001b[0m\u001b[0msum\u001b[0m\u001b[1;33m/\u001b[0m\u001b[1;36m6\u001b[0m\u001b[1;33m\u001b[0m\u001b[1;33m\u001b[0m\u001b[0m\n\u001b[0m\u001b[0;32m     10\u001b[0m \u001b[0mprint\u001b[0m\u001b[1;33m(\u001b[0m\u001b[0maverage\u001b[0m\u001b[1;33m)\u001b[0m\u001b[1;33m\u001b[0m\u001b[1;33m\u001b[0m\u001b[0m\n",
      "\u001b[1;31mTypeError\u001b[0m: unsupported operand type(s) for /: 'list' and 'int'"
     ]
    }
   ],
   "source": [
    "m1=int(input(\"Enter marks for student number 1: \"))\n",
    "m2=int(input(\"Enter marks for student number 2: \"))\n",
    "m3=int(input(\"Enter marks for student number 3: \"))\n",
    "m4=int(input(\"Enter marks for student number 4: \"))\n",
    "m5=int(input(\"Enter marks for student number 5: \"))\n",
    "m6=int(input(\"Enter marks for student number 6: \"))\n",
    "sum=[m1+m2+m3+m4+m5+m6]\n",
    "#print(sum)\n",
    "average=sum/6\n",
    "print(average)"
   ]
  },
  {
   "cell_type": "code",
   "execution_count": null,
   "id": "8014c5f6",
   "metadata": {},
   "outputs": [],
   "source": []
  }
 ],
 "metadata": {
  "kernelspec": {
   "display_name": "Python 3",
   "language": "python",
   "name": "python3"
  },
  "language_info": {
   "codemirror_mode": {
    "name": "ipython",
    "version": 3
   },
   "file_extension": ".py",
   "mimetype": "text/x-python",
   "name": "python",
   "nbconvert_exporter": "python",
   "pygments_lexer": "ipython3",
   "version": "3.8.8"
  }
 },
 "nbformat": 4,
 "nbformat_minor": 5
}
