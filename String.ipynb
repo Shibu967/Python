{
 "cells": [
  {
   "cell_type": "code",
   "execution_count": 4,
   "id": "6970609b",
   "metadata": {},
   "outputs": [
    {
     "name": "stdout",
     "output_type": "stream",
     "text": [
      "Shibu\"s and\n",
      "Shibu's\n",
      "<class 'str'>\n"
     ]
    }
   ],
   "source": [
    "b='''Shibu\"s and\n",
    "Shibu's'''\n",
    "print(b)\n",
    "print(type(b))"
   ]
  },
  {
   "cell_type": "markdown",
   "id": "88025d27",
   "metadata": {},
   "source": [
    "# String_slicing.py"
   ]
  },
  {
   "cell_type": "code",
   "execution_count": 3,
   "id": "9323cd78",
   "metadata": {},
   "outputs": [
    {
     "name": "stdout",
     "output_type": "stream",
     "text": [
      "S\n",
      "b\n",
      "u\n",
      "u\n",
      "b\n",
      "i\n"
     ]
    }
   ],
   "source": [
    "\n",
    "name=\"Shibu\"\n",
    "print(name[0])\n",
    "print(name[3])\n",
    "print(name[4])\n",
    "print(name[-1])\n",
    "print(name[-2])\n",
    "print(name[-3])"
   ]
  },
  {
   "cell_type": "markdown",
   "id": "b3f63329",
   "metadata": {},
   "source": [
    "# slicing.py"
   ]
  },
  {
   "cell_type": "code",
   "execution_count": 5,
   "id": "f362eee7",
   "metadata": {},
   "outputs": [
    {
     "name": "stdout",
     "output_type": "stream",
     "text": [
      "Shib\n",
      "Shi\n",
      "Sh\n",
      "ubihS\n",
      "ib\n"
     ]
    }
   ],
   "source": [
    "\n",
    "name=\"Shibu\"\n",
    "print(name[0:4])\n",
    "print(name[0:3])\n",
    "print(name[0:2])\n",
    "print(name[::-1])\n",
    "print(name[2:4])"
   ]
  },
  {
   "cell_type": "markdown",
   "id": "d538ce10",
   "metadata": {},
   "source": [
    "# negative indics"
   ]
  },
  {
   "cell_type": "code",
   "execution_count": 6,
   "id": "0ecdd4b5",
   "metadata": {},
   "outputs": [
    {
     "name": "stdout",
     "output_type": "stream",
     "text": [
      "hib\n",
      "i\n"
     ]
    }
   ],
   "source": [
    "\n",
    "name=\"Shibu\"\n",
    "print(name[-4:-1])\n",
    "print(name[-3:-2])"
   ]
  },
  {
   "cell_type": "markdown",
   "id": "b7f63e47",
   "metadata": {},
   "source": [
    "# slicing with skip value"
   ]
  },
  {
   "cell_type": "code",
   "execution_count": 1,
   "id": "d84cae6d",
   "metadata": {},
   "outputs": [
    {
     "name": "stdout",
     "output_type": "stream",
     "text": [
      "i\n",
      "hib\n"
     ]
    }
   ],
   "source": [
    "\n",
    "name=\"shibu\"\n",
    "print(name[2:4:3])\n",
    "print(name[1:4:1])"
   ]
  },
  {
   "cell_type": "markdown",
   "id": "34dfea99",
   "metadata": {},
   "source": [
    "# string function"
   ]
  },
  {
   "cell_type": "code",
   "execution_count": 18,
   "id": "853568eb",
   "metadata": {},
   "outputs": [
    {
     "name": "stdout",
     "output_type": "stream",
     "text": [
      "40\n",
      "True\n",
      "1\n",
      "2\n",
      "My name is shibu kumari i am from bihar.\n",
      "0\n",
      "3\n",
      "my name is abhay kumari i am from bihar.\n"
     ]
    }
   ],
   "source": [
    "\n",
    "story=\"my name is shibu kumari i am from bihar.\"\n",
    "print(len(story))\n",
    "print(story.endswith(\".\"))\n",
    "print(story.count(story))\n",
    "print(story.count(\"s\"))\n",
    "print(story.capitalize())\n",
    "print(story.find(\"my\"))\n",
    "print(story.find(\"name\"))\n",
    "print(story.replace(\"shibu\",\"abhay\"))"
   ]
  },
  {
   "cell_type": "markdown",
   "id": "e48193d3",
   "metadata": {},
   "source": [
    "# Escape sequence characters\n"
   ]
  },
  {
   "cell_type": "code",
   "execution_count": 10,
   "id": "5f49980f",
   "metadata": {},
   "outputs": [
    {
     "name": "stdout",
     "output_type": "stream",
     "text": [
      "shibu is good girl.\n",
      " she is very good.\n"
     ]
    }
   ],
   "source": [
    "story=\"shibu is good girl.\\n she is very good.\"\n",
    "\n",
    "print(story)"
   ]
  },
  {
   "cell_type": "markdown",
   "id": "48f48815",
   "metadata": {},
   "source": [
    "# 1write a python program to display a user entered name followed by Good Afternoon using input() function"
   ]
  },
  {
   "cell_type": "markdown",
   "id": "9b9178eb",
   "metadata": {},
   "source": [
    "\n",
    "name=input(\"enter your name\")\n",
    "print(\"Good Afternoon,\" + name)"
   ]
  },
  {
   "cell_type": "markdown",
   "id": "d4e693a1",
   "metadata": {},
   "source": [
    "# 3 write a program to delect double spaces in a string"
   ]
  },
  {
   "cell_type": "code",
   "execution_count": 4,
   "id": "d57deff8",
   "metadata": {},
   "outputs": [
    {
     "name": "stdout",
     "output_type": "stream",
     "text": [
      "28\n"
     ]
    }
   ],
   "source": [
    "\n",
    "st=\"this is a string with double  spaces\"\n",
    "doubleSpaces=st.find(\"  \")\n",
    "print(doubleSpaces)"
   ]
  },
  {
   "cell_type": "markdown",
   "id": "921ecf48",
   "metadata": {},
   "source": [
    "# 2 write a program to fill in a letter template given below with name and date"
   ]
  },
  {
   "cell_type": "code",
   "execution_count": 2,
   "id": "2314ac73",
   "metadata": {},
   "outputs": [
    {
     "name": "stdout",
     "output_type": "stream",
     "text": [
      "Enter your name\n",
      "shibu\n",
      "Enter DATE\n",
      "14 Aug\n",
      "Dear shibu,\n",
      "greeting from abc coding house. i am happy to tell you about your selection.\n",
      "You are selected!\n",
      "Have a great day ahead!\n",
      "thanks and regards\n",
      "bill\n",
      "Date: 14 Aug\n",
      "\n"
     ]
    }
   ],
   "source": [
    "\n",
    "letter='''Dear <|NAME|>,\n",
    "greeting from abc coding house. i am happy to tell you about your selection.\n",
    "You are selected!\n",
    "Have a great day ahead!\n",
    "thanks and regards\n",
    "bill\n",
    "Date: <|DATE|>\n",
    "'''\n",
    "name=input(\"Enter your name\\n\")\n",
    "date=input(\"Enter DATE\\n\")\n",
    "letter=letter.replace(\"<|NAME|>\",name)\n",
    "letter=letter.replace(\"<|DATE|>\",date)\n",
    "print(letter)"
   ]
  },
  {
   "cell_type": "markdown",
   "id": "6c2db762",
   "metadata": {},
   "source": [
    "# 4replace the double spaces from problem 3 with single spaces"
   ]
  },
  {
   "cell_type": "code",
   "execution_count": 6,
   "id": "25066261",
   "metadata": {},
   "outputs": [
    {
     "name": "stdout",
     "output_type": "stream",
     "text": [
      "this is a string with double spaces\n"
     ]
    }
   ],
   "source": [
    "\n",
    "st=\"this is a string with double  spaces\"\n",
    "st=st.replace(\"  \",\" \")\n",
    "print(st)"
   ]
  },
  {
   "cell_type": "markdown",
   "id": "b62c6259",
   "metadata": {},
   "source": [
    "# 5write a program to format the following letter using eslap sequence characters."
   ]
  },
  {
   "cell_type": "code",
   "execution_count": 2,
   "id": "94fd4040",
   "metadata": {},
   "outputs": [
    {
     "name": "stdout",
     "output_type": "stream",
     "text": [
      "Dear Shibu,this python cource is nice.thanks\n",
      "Dear Shibu,\n",
      "this python cource is nice.\n",
      "thanks\n"
     ]
    }
   ],
   "source": [
    "\n",
    "letter=\"Dear Shibu,this python cource is nice.thanks\"\n",
    "print(letter)\n",
    "formatted_letter=\"Dear Shibu,\\nthis python cource is nice.\\nthanks\"\n",
    "print(formatted_letter)"
   ]
  },
  {
   "cell_type": "code",
   "execution_count": 9,
   "id": "7a48ac60",
   "metadata": {},
   "outputs": [
    {
     "name": "stdout",
     "output_type": "stream",
     "text": [
      "python programming\n",
      "18\n",
      "prog\n",
      "p\n",
      "python prog\n",
      "p\n"
     ]
    }
   ],
   "source": [
    "str=\"python programming\"\n",
    "print(str)\n",
    "print(len(str))\n",
    "print(str[7:11])\n",
    "print(str[7:8])\n",
    "print(str[0:11])\n",
    "print(str[7:11:12])"
   ]
  },
  {
   "cell_type": "code",
   "execution_count": 2,
   "id": "3abddfdb",
   "metadata": {},
   "outputs": [
    {
     "name": "stdout",
     "output_type": "stream",
     "text": [
      "hi\n"
     ]
    }
   ],
   "source": [
    "b='shibu'\n",
    "print(b[1:3])"
   ]
  },
  {
   "cell_type": "code",
   "execution_count": 4,
   "id": "23c2ed79",
   "metadata": {},
   "outputs": [
    {
     "name": "stdout",
     "output_type": "stream",
     "text": [
      "['shibu', 'kumari', 'yadav']\n"
     ]
    }
   ],
   "source": [
    "my_list=[\"shibu\",\"kumari\"]\n",
    "my_list.append(\"yadav\")\n",
    "print(my_list)"
   ]
  },
  {
   "cell_type": "code",
   "execution_count": 5,
   "id": "f6fde17f",
   "metadata": {},
   "outputs": [
    {
     "name": "stdout",
     "output_type": "stream",
     "text": [
      "['Darsan', 'institute', 'of', 'engineering', 'rajkot']\n"
     ]
    }
   ],
   "source": [
    "my_list=['Darsan','institute','rajkot']\n",
    "my_list.insert(2,'of')\n",
    "my_list.insert(3,'engineering')\n",
    "print(my_list)\n"
   ]
  },
  {
   "cell_type": "code",
   "execution_count": 7,
   "id": "2c9ff28c",
   "metadata": {},
   "outputs": [
    {
     "name": "stdout",
     "output_type": "stream",
     "text": [
      "['Darsan', 'institute', 'rajkot', 'gujrat']\n"
     ]
    }
   ],
   "source": [
    "my_list1=['Darsan','institute',]\n",
    "my_list2=['rajkot','gujrat']\n",
    "my_list1.extend(my_list2)\n",
    "print(my_list1)"
   ]
  },
  {
   "cell_type": "code",
   "execution_count": 8,
   "id": "415ec9c2",
   "metadata": {},
   "outputs": [
    {
     "name": "stdout",
     "output_type": "stream",
     "text": [
      "['Darsan', 'institute']\n"
     ]
    }
   ],
   "source": [
    "my_list=['Darsan','institute','rajkot']\n",
    "my_list.pop()\n",
    "print(my_list)"
   ]
  },
  {
   "cell_type": "code",
   "execution_count": 13,
   "id": "cdfaebe5",
   "metadata": {},
   "outputs": [
    {
     "name": "stdout",
     "output_type": "stream",
     "text": [
      "['institute', 'darshan', 'rajkot']\n"
     ]
    }
   ],
   "source": [
    "my_list=['darshan','institute','darshan','rajkot']\n",
    "my_list=my_list.remove('darshan')\n",
    "print(my_list)"
   ]
  },
  {
   "cell_type": "code",
   "execution_count": 14,
   "id": "72ec77a3",
   "metadata": {},
   "outputs": [
    {
     "name": "stdout",
     "output_type": "stream",
     "text": [
      "[]\n"
     ]
    }
   ],
   "source": [
    "my_list=['darshan','institute','darshan','rajkot']\n",
    "my_list.clear()\n",
    "print(my_list)\n"
   ]
  },
  {
   "cell_type": "code",
   "execution_count": 19,
   "id": "929026e7",
   "metadata": {},
   "outputs": [
    {
     "name": "stdout",
     "output_type": "stream",
     "text": [
      "2\n"
     ]
    }
   ],
   "source": [
    "my_list=['darshan','institute','darshan','rajkot']\n",
    "c=my_list.count('darshan')\n",
    "print(c)"
   ]
  },
  {
   "cell_type": "code",
   "execution_count": 21,
   "id": "1a2f7353",
   "metadata": {},
   "outputs": [
    {
     "name": "stdout",
     "output_type": "stream",
     "text": [
      "['rajkot', 'darshan', 'institute', 'darshan']\n"
     ]
    }
   ],
   "source": [
    "my_list=['darshan','institute','darshan','rajkot']\n",
    "my_list.reverse()\n",
    "print(my_list)"
   ]
  },
  {
   "cell_type": "code",
   "execution_count": 26,
   "id": "e112546e",
   "metadata": {},
   "outputs": [
    {
     "name": "stdout",
     "output_type": "stream",
     "text": [
      "['darshan', 'darshan', 'institute', 'rajkot']\n"
     ]
    }
   ],
   "source": [
    "my_list=['darshan','institute','darshan','rajkot']\n",
    "my_list.sort()\n",
    "print(my_list)"
   ]
  },
  {
   "cell_type": "code",
   "execution_count": 32,
   "id": "6b4eccc4",
   "metadata": {},
   "outputs": [
    {
     "name": "stdout",
     "output_type": "stream",
     "text": [
      "0\n",
      "('darshan', 'institute', 'darshan', 'rajkot')\n"
     ]
    }
   ],
   "source": [
    "my_list=('darshan','institute','darshan','rajkot')\n",
    "print(my_list.index('darshan'))\n",
    "print(my_list)\n"
   ]
  },
  {
   "cell_type": "code",
   "execution_count": 41,
   "id": "36916fa9",
   "metadata": {},
   "outputs": [
    {
     "name": "stdout",
     "output_type": "stream",
     "text": [
      "enter the number :9\n",
      "factorial of 9 362880\n"
     ]
    }
   ],
   "source": [
    "def recursion_function(n):\n",
    "    if n==1:\n",
    "        return n\n",
    "    else:\n",
    "        return n* recursion_function(n-1)\n",
    "num=int(input(\"enter the number :\"))\n",
    "if(num<0):\n",
    "    print(\"sorry,factorial of negatine number is not allowed\")\n",
    "elif(num==0):\n",
    "     print(\"factorial of 0 number is 1 allowed\")\n",
    "else:\n",
    "    print(\"factorial of\",num,recursion_function(num))\n",
    "    "
   ]
  },
  {
   "cell_type": "code",
   "execution_count": null,
   "id": "5c7b7554",
   "metadata": {},
   "outputs": [],
   "source": []
  },
  {
   "cell_type": "code",
   "execution_count": null,
   "id": "a76aba16",
   "metadata": {},
   "outputs": [],
   "source": []
  }
 ],
 "metadata": {
  "kernelspec": {
   "display_name": "Python 3",
   "language": "python",
   "name": "python3"
  },
  "language_info": {
   "codemirror_mode": {
    "name": "ipython",
    "version": 3
   },
   "file_extension": ".py",
   "mimetype": "text/x-python",
   "name": "python",
   "nbconvert_exporter": "python",
   "pygments_lexer": "ipython3",
   "version": "3.8.8"
  }
 },
 "nbformat": 4,
 "nbformat_minor": 5
}
