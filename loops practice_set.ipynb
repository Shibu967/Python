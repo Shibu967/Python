{
 "cells": [
  {
   "cell_type": "code",
   "execution_count": 1,
   "id": "387b4b06",
   "metadata": {},
   "outputs": [
    {
     "name": "stdout",
     "output_type": "stream",
     "text": [
      "enter the number5\n",
      "5 X 1=5\n",
      "5 X 2=10\n",
      "5 X 3=15\n",
      "5 X 4=20\n",
      "5 X 5=25\n",
      "5 X 6=30\n",
      "5 X 7=35\n",
      "5 X 8=40\n",
      "5 X 9=45\n",
      "5 X 10=50\n"
     ]
    }
   ],
   "source": [
    " # 1.write a program to print multiplication table of a given number using for\n",
    "#loop.\n",
    "num=int(input(\"enter the number\"))\n",
    "for i in range(1,11):\n",
    "    print(str(num) + \" X \" + str(i) + \"=\" + str(i*num))\n"
   ]
  },
  {
   "cell_type": "code",
   "execution_count": 2,
   "id": "aded5b3a",
   "metadata": {},
   "outputs": [
    {
     "name": "stdout",
     "output_type": "stream",
     "text": [
      "Hellosohan\n",
      "Hellosachine\n"
     ]
    }
   ],
   "source": [
    "#2. write a program to greet all the person names stored in a list l1 and which \n",
    "# starts with s\n",
    "# l1=[\"harry\",\"sohan\",\"sachine\",\"rahul\"]\n",
    "l1=[\"harry\",\"sohan\",\"sachine\",\"rahul\"]\n",
    "for name in l1:\n",
    "    if name.startswith(\"s\"):\n",
    "        print(\"Hello\"+name)\n"
   ]
  },
  {
   "cell_type": "code",
   "execution_count": 3,
   "id": "c33dac1b",
   "metadata": {},
   "outputs": [
    {
     "name": "stdout",
     "output_type": "stream",
     "text": [
      "enter the number5\n"
     ]
    }
   ],
   "source": [
    "\n",
    "#3. attempt problem 1 using while loop.\n",
    "num=int(input(\"enter the number\"))\n",
    "i=1\n",
    "while i>=10:\n",
    "    print(str(num) + \" X \" + str(i) + \"=\" + str(i*num) )\n",
    "    i=i=1"
   ]
  },
  {
   "cell_type": "code",
   "execution_count": 4,
   "id": "2e4dcc69",
   "metadata": {},
   "outputs": [
    {
     "name": "stdout",
     "output_type": "stream",
     "text": [
      "enter the nunber: 5\n",
      "this number is prime\n"
     ]
    }
   ],
   "source": [
    "# 4. write a program to find whether a given number is prime or not.\n",
    "num=int(input(\"enter the nunber: \"))\n",
    "prime=True\n",
    "for i in range(2,num):\n",
    "    if(num%i==0):\n",
    "        prime=False\n",
    "        break\n",
    "if prime:\n",
    "    print(\"this number is prime\")\n",
    "else:\n",
    "    print(\"this number is not prime\")"
   ]
  },
  {
   "cell_type": "code",
   "execution_count": 5,
   "id": "04d411f2",
   "metadata": {},
   "outputs": [
    {
     "name": "stdout",
     "output_type": "stream",
     "text": [
      "Enter a natural number: 6\n",
      "21\n"
     ]
    }
   ],
   "source": [
    "#5. write a program to find the sum of first n natural numbers using\n",
    "#while loop. \n",
    "N = int(input(\"Enter a natural number: \"))\n",
    "\n",
    "answer=0\n",
    "\n",
    "i=1\n",
    "while i<=N:\n",
    "\tanswer = answer + i\n",
    "\ti=i+1\n",
    "\n",
    "print(answer)\n",
    "        \n",
    "        \n",
    "        "
   ]
  },
  {
   "cell_type": "code",
   "execution_count": 6,
   "id": "c246f1fd",
   "metadata": {},
   "outputs": [
    {
     "name": "stdout",
     "output_type": "stream",
     "text": [
      "enter the nunber: 4\n",
      "the factorial of 4 is 24\n"
     ]
    }
   ],
   "source": [
    " #6. write a program to calculate the factorial of a given\n",
    "#number using for loop.\n",
    "num=int(input(\"enter the nunber: \"))\n",
    "factorial=1\n",
    "for i in range(1, num+1):\n",
    "    factorial=factorial*i\n",
    "print(f\"the factorial of {num} is {factorial}\")"
   ]
  },
  {
   "cell_type": "code",
   "execution_count": 17,
   "id": "cac8f4fd",
   "metadata": {},
   "outputs": [
    {
     "name": "stdout",
     "output_type": "stream",
     "text": [
      "  *  \n",
      " *** \n",
      "*****\n"
     ]
    }
   ],
   "source": [
    "#7. write a program to print the following star pattern \n",
    "#  *\n",
    "# ***\n",
    "#*****for n=3\n",
    "n=3\n",
    "for i in range(3):\n",
    "    print(\" \" * (n-i-1), end=\"\")\n",
    "    print(\"*\" * (2*i+1),end=\"\")\n",
    "    print(\" \" * (n-i-1))\n"
   ]
  },
  {
   "cell_type": "code",
   "execution_count": 16,
   "id": "7e294f8a",
   "metadata": {},
   "outputs": [
    {
     "name": "stdout",
     "output_type": "stream",
     "text": [
      "*\n",
      "**\n",
      "***\n"
     ]
    }
   ],
   "source": [
    " #8. write a program to print the following star pattern:\n",
    "    #   *\n",
    "    #   **\n",
    "    #   *** for n=3\n",
    "n=3\n",
    "for i in range(3):\n",
    "    print(\"*\" * (i+1))\n",
    "    "
   ]
  },
  {
   "cell_type": "code",
   "execution_count": 9,
   "id": "644b944c",
   "metadata": {},
   "outputs": [],
   "source": [
    " #9. write a program to print follwing star pattern\n",
    "    #  * * *\n",
    "    #  *   *    for n=3\n",
    "    #  * * *"
   ]
  },
  {
   "cell_type": "code",
   "execution_count": 4,
   "id": "f3f42315",
   "metadata": {},
   "outputs": [
    {
     "name": "stdout",
     "output_type": "stream",
     "text": [
      "enter the number5\n",
      "5 X 10=50\n",
      "5 X 9=45\n",
      "5 X 8=40\n",
      "5 X 7=35\n",
      "5 X 6=30\n",
      "5 X 5=25\n",
      "5 X 4=20\n",
      "5 X 3=15\n",
      "5 X 2=10\n",
      "5 X 1=5\n"
     ]
    }
   ],
   "source": [
    "#10. write a program to print multiplication table of n using for loop in \n",
    "# reversed order.\n",
    "num=int(input(\"enter the number\"))\n",
    "for i in range(10,0,-1):\n",
    "    print(str(num) + \" X \" + str(i) + \"=\" + str(i*num))\n"
   ]
  },
  {
   "cell_type": "code",
   "execution_count": 1,
   "id": "66f57291",
   "metadata": {},
   "outputs": [
    {
     "name": "stdout",
     "output_type": "stream",
     "text": [
      "Enter the table: 5\n",
      "Enter the ending : 10\n",
      "10 * 5 = 50\n",
      "9 * 5 = 45\n",
      "8 * 5 = 40\n",
      "7 * 5 = 35\n",
      "6 * 5 = 30\n",
      "5 * 5 = 25\n",
      "4 * 5 = 20\n",
      "3 * 5 = 15\n",
      "2 * 5 = 10\n",
      "1 * 5 = 5\n"
     ]
    }
   ],
   "source": [
    "table = int(input(\"Enter the table: \"))\n",
    "\n",
    "limit = int(input(\"Enter the ending : \"))\n",
    "\n",
    "for i in range(limit,0,-1):\n",
    "    print(i,\"*\",table,\"=\",i*table)"
   ]
  },
  {
   "cell_type": "code",
   "execution_count": 9,
   "id": "cd37716a",
   "metadata": {},
   "outputs": [
    {
     "ename": "SyntaxError",
     "evalue": "unexpected EOF while parsing (<ipython-input-9-02d93d5d7165>, line 2)",
     "output_type": "error",
     "traceback": [
      "\u001b[1;36m  File \u001b[1;32m\"<ipython-input-9-02d93d5d7165>\"\u001b[1;36m, line \u001b[1;32m2\u001b[0m\n\u001b[1;33m    for i in range(1,4):\u001b[0m\n\u001b[1;37m                        ^\u001b[0m\n\u001b[1;31mSyntaxError\u001b[0m\u001b[1;31m:\u001b[0m unexpected EOF while parsing\n"
     ]
    }
   ],
   "source": [
    "#i=5\n",
    "for i in range(1,4):"
   ]
  },
  {
   "cell_type": "code",
   "execution_count": null,
   "id": "c1c1c78f",
   "metadata": {},
   "outputs": [],
   "source": []
  }
 ],
 "metadata": {
  "kernelspec": {
   "display_name": "Python 3",
   "language": "python",
   "name": "python3"
  },
  "language_info": {
   "codemirror_mode": {
    "name": "ipython",
    "version": 3
   },
   "file_extension": ".py",
   "mimetype": "text/x-python",
   "name": "python",
   "nbconvert_exporter": "python",
   "pygments_lexer": "ipython3",
   "version": "3.8.8"
  }
 },
 "nbformat": 4,
 "nbformat_minor": 5
}
