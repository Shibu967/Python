{
 "cells": [
  {
   "cell_type": "markdown",
   "id": "87b6b9e8",
   "metadata": {},
   "source": [
    "# while loop"
   ]
  },
  {
   "cell_type": "code",
   "execution_count": 6,
   "id": "394ac1ac",
   "metadata": {},
   "outputs": [
    {
     "name": "stdout",
     "output_type": "stream",
     "text": [
      "yes 0\n",
      "yes 1\n",
      "yes 2\n",
      "yes 3\n",
      "yes 4\n",
      "yes 5\n",
      "yes 6\n",
      "yes 7\n",
      "yes 8\n",
      "yes 9\n",
      "done\n"
     ]
    }
   ],
   "source": [
    "i=0\n",
    "while i<10:\n",
    "    print(\"yes \"+str(i))\n",
    "    i=i+1\n",
    "print(\"done\")"
   ]
  },
  {
   "cell_type": "code",
   "execution_count": 1,
   "id": "c91d2354",
   "metadata": {},
   "outputs": [
    {
     "name": "stdout",
     "output_type": "stream",
     "text": [
      "1\n",
      "2\n",
      "3\n",
      "4\n",
      "5\n",
      "6\n",
      "7\n",
      "8\n",
      "9\n",
      "10\n",
      "11\n",
      "12\n",
      "13\n",
      "14\n",
      "15\n",
      "16\n",
      "17\n",
      "18\n",
      "19\n",
      "20\n",
      "21\n",
      "22\n",
      "23\n",
      "24\n",
      "25\n",
      "26\n",
      "27\n",
      "28\n",
      "29\n",
      "30\n",
      "31\n",
      "32\n",
      "33\n",
      "34\n",
      "35\n",
      "36\n",
      "37\n",
      "38\n",
      "39\n",
      "40\n",
      "41\n",
      "42\n",
      "43\n",
      "44\n",
      "45\n",
      "46\n",
      "47\n",
      "48\n",
      "49\n",
      "50\n"
     ]
    }
   ],
   "source": [
    "# quick quig:write a program to print 1 to 50 using a while loop.\n",
    "i=1\n",
    "while i<=50:\n",
    "    print(i)\n",
    "    i=i+1"
   ]
  },
  {
   "cell_type": "code",
   "execution_count": 2,
   "id": "fd97d395",
   "metadata": {},
   "outputs": [
    {
     "name": "stdout",
     "output_type": "stream",
     "text": [
      "shibu\n",
      "shibu\n",
      "shibu\n",
      "shibu\n",
      "shibu\n"
     ]
    }
   ],
   "source": [
    "i=0\n",
    "while i<5:\n",
    "    print(\"shibu\")\n",
    "    i=i+1"
   ]
  },
  {
   "cell_type": "code",
   "execution_count": 3,
   "id": "c367f3eb",
   "metadata": {},
   "outputs": [
    {
     "name": "stdout",
     "output_type": "stream",
     "text": [
      "apple\n",
      "orange\n",
      "banana\n",
      "grapes\n"
     ]
    }
   ],
   "source": [
    "# quick quiz:write a program to print 1 to 50 using a while loop.\n",
    "fruits=[\"apple\",\"orange\",\"banana\",\"grapes\"]\n",
    "i=0\n",
    "while i<len(fruits):\n",
    "    print(fruits[i])\n",
    "    i=i+1"
   ]
  },
  {
   "cell_type": "markdown",
   "id": "490dcd9f",
   "metadata": {},
   "source": [
    "# for loop"
   ]
  },
  {
   "cell_type": "code",
   "execution_count": 1,
   "id": "8d4d878d",
   "metadata": {},
   "outputs": [
    {
     "name": "stdout",
     "output_type": "stream",
     "text": [
      "apple\n",
      "orange\n",
      "banana\n",
      "grapes\n"
     ]
    }
   ],
   "source": [
    "fruits=[\"apple\",\"orange\",\"banana\",\"grapes\"]\n",
    "for item in fruits:\n",
    "    print(item)"
   ]
  },
  {
   "cell_type": "markdown",
   "id": "b231ceac",
   "metadata": {},
   "source": [
    "# Range function:-\n",
    "# generate a sequence of numbers"
   ]
  },
  {
   "cell_type": "code",
   "execution_count": 2,
   "id": "4a55bcd5",
   "metadata": {},
   "outputs": [
    {
     "name": "stdout",
     "output_type": "stream",
     "text": [
      "0\n",
      "1\n",
      "2\n",
      "3\n",
      "4\n",
      "5\n",
      "6\n",
      "7\n"
     ]
    }
   ],
   "source": [
    "for i in range (8):\n",
    "    print(i)"
   ]
  },
  {
   "cell_type": "code",
   "execution_count": 3,
   "id": "29804a03",
   "metadata": {},
   "outputs": [
    {
     "name": "stdout",
     "output_type": "stream",
     "text": [
      "1\n",
      "2\n",
      "3\n",
      "4\n",
      "5\n",
      "6\n",
      "7\n"
     ]
    }
   ],
   "source": [
    "for i in range (1,8):# start 1 to\n",
    "    print(i)"
   ]
  },
  {
   "cell_type": "code",
   "execution_count": 4,
   "id": "c3d44213",
   "metadata": {},
   "outputs": [
    {
     "name": "stdout",
     "output_type": "stream",
     "text": [
      "2\n",
      "3\n",
      "4\n",
      "5\n",
      "6\n",
      "7\n"
     ]
    }
   ],
   "source": [
    "for i in range (2,8):# start 2 to\n",
    "    print(i)"
   ]
  },
  {
   "cell_type": "markdown",
   "id": "222930e3",
   "metadata": {},
   "source": [
    "# for loop with else"
   ]
  },
  {
   "cell_type": "code",
   "execution_count": 5,
   "id": "3059dc24",
   "metadata": {},
   "outputs": [
    {
     "name": "stdout",
     "output_type": "stream",
     "text": [
      "0\n",
      "1\n",
      "2\n",
      "3\n",
      "4\n",
      "5\n",
      "6\n",
      "7\n",
      "8\n",
      "9\n",
      "this is inside else of for\n"
     ]
    }
   ],
   "source": [
    "for i in range (10):\n",
    "    print(i)\n",
    "else:\n",
    "    print(\"this is inside else of for\")"
   ]
  },
  {
   "cell_type": "code",
   "execution_count": 6,
   "id": "14cf7907",
   "metadata": {},
   "outputs": [
    {
     "name": "stdout",
     "output_type": "stream",
     "text": [
      "1\n",
      "7\n",
      "8\n"
     ]
    }
   ],
   "source": [
    "l=[1,7,8]\n",
    "for item in l:\n",
    "    print(item)\n",
    "else:\n",
    "    (\"done\")"
   ]
  },
  {
   "cell_type": "markdown",
   "id": "ac532368",
   "metadata": {},
   "source": [
    "# the break statement\n",
    "\n"
   ]
  },
  {
   "cell_type": "code",
   "execution_count": 8,
   "id": "30a2cb2b",
   "metadata": {},
   "outputs": [
    {
     "name": "stdout",
     "output_type": "stream",
     "text": [
      "0\n",
      "1\n",
      "2\n",
      "3\n",
      "4\n",
      "5\n"
     ]
    }
   ],
   "source": [
    "for i in range (10):\n",
    "    print(i)\n",
    "    if i==5:\n",
    "        break"
   ]
  },
  {
   "cell_type": "markdown",
   "id": "89707047",
   "metadata": {},
   "source": [
    "# continue statement\n"
   ]
  },
  {
   "cell_type": "code",
   "execution_count": 13,
   "id": "346d8d0b",
   "metadata": {},
   "outputs": [
    {
     "name": "stdout",
     "output_type": "stream",
     "text": [
      "0\n",
      "1\n",
      "2\n",
      "3\n",
      "4\n",
      "6\n",
      "7\n",
      "8\n",
      "9\n"
     ]
    }
   ],
   "source": [
    "for i in range (10):\n",
    "    if i == 5:\n",
    "        continue\n",
    "    print(i)"
   ]
  },
  {
   "cell_type": "markdown",
   "id": "f26d43e4",
   "metadata": {},
   "source": [
    "# pass statment:-\n",
    "# pass is a null statement in python.\n",
    "# it instructs to \"do nothing\""
   ]
  },
  {
   "cell_type": "code",
   "execution_count": 17,
   "id": "d40f7748",
   "metadata": {},
   "outputs": [],
   "source": [
    "l=[1,2,3]\n",
    "for item in l:\n",
    "    pass"
   ]
  },
  {
   "cell_type": "code",
   "execution_count": 19,
   "id": "97e4740f",
   "metadata": {},
   "outputs": [
    {
     "name": "stdout",
     "output_type": "stream",
     "text": [
      "Harry is a good boy\n"
     ]
    }
   ],
   "source": [
    "i=4\n",
    "if i>0:\n",
    "    pass\n",
    "while i>6:\n",
    "    pass\n",
    "print(\"Harry is a good boy\")"
   ]
  },
  {
   "cell_type": "code",
   "execution_count": null,
   "id": "0a8d5592",
   "metadata": {},
   "outputs": [],
   "source": []
  }
 ],
 "metadata": {
  "kernelspec": {
   "display_name": "Python 3",
   "language": "python",
   "name": "python3"
  },
  "language_info": {
   "codemirror_mode": {
    "name": "ipython",
    "version": 3
   },
   "file_extension": ".py",
   "mimetype": "text/x-python",
   "name": "python",
   "nbconvert_exporter": "python",
   "pygments_lexer": "ipython3",
   "version": "3.8.8"
  }
 },
 "nbformat": 4,
 "nbformat_minor": 5
}
